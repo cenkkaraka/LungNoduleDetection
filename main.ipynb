{
 "cells": [
  {
   "cell_type": "code",
   "execution_count": 3,
   "id": "c7454a7d-e037-4be1-8626-ab795d438c3a",
   "metadata": {},
   "outputs": [
    {
     "name": "stdout",
     "output_type": "stream",
     "text": [
      "The autoreload extension is already loaded. To reload it, use:\n",
      "  %reload_ext autoreload\n"
     ]
    }
   ],
   "source": [
    "%load_ext autoreload\n",
    "%autoreload 2\n",
    "from prepare.preprocessing import process_all_scans\n",
    "from prepare.patch_extraction import extract_patches_neg, extract_patches_pos\n",
    "from prepare.build_training_index import create_balanced_training_csv"
   ]
  },
  {
   "cell_type": "code",
   "execution_count": 4,
   "id": "ba0faefb-7578-4c4e-94a8-2d9b72fa5245",
   "metadata": {},
   "outputs": [],
   "source": [
    "'''\n",
    "[LUNA_PATH]/\n",
    "            annotations.csv\n",
    "            candidates.csv\n",
    "            \n",
    "            candidates_V2/\n",
    "                        candidates_V2.csv\n",
    "                        \n",
    "            subset0/\n",
    "                        *.mhd\n",
    "                        *.raw\n",
    "            subset1/\n",
    "                        *.mhd\n",
    "                        *.raw\n",
    "\n",
    "'''\n",
    "\n",
    "# INPUT\n",
    "LUNA_PATH = r\"D:\\archive\"\n",
    "ANNOTATION_FILE = LUNA_PATH + r\"\\annotations.csv\"\n",
    "CANDIDATES_FILE = LUNA_PATH + r\"\\candidates_V2\\candidates_V2.csv\"\n",
    "\n",
    "# OUTPUT\n",
    "OUTPUT_PATH = r\"D:\\fill_lung_true\\output\"\n",
    "PREPROCESSED_OUTPUT = OUTPUT_PATH + r\"\\preprocessed_luna16\"\n",
    "\n",
    "PATCH_OUTPUT = r\"C:\\Users\\azizd\\python\\pytorch\\final_project\\output\\patches\"\n",
    "\n",
    "METADATA_FILE = r\"C:\\Users\\azizd\\python\\pytorch\\final_project\\output\\preprocessed_metadata.csv\"\n",
    "\n",
    "PATCH_CSV =  r\"C:\\Users\\azizd\\python\\pytorch\\final_project\\output\\patch_data.csv\"\n",
    "CHECKPOINT_PATH = \"best_model.pt\""
   ]
  },
  {
   "cell_type": "code",
   "execution_count": 18,
   "id": "fb940ff0-d36b-4e40-bccc-eea7660b482d",
   "metadata": {},
   "outputs": [
    {
     "ename": "ValueError",
     "evalue": "The truth value of a Series is ambiguous. Use a.empty, a.bool(), a.item(), a.any() or a.all().",
     "output_type": "error",
     "traceback": [
      "\u001b[1;31m---------------------------------------------------------------------------\u001b[0m",
      "\u001b[1;31mValueError\u001b[0m                                Traceback (most recent call last)",
      "\u001b[1;32m~\\AppData\\Local\\Temp\\ipykernel_17192\\1653922997.py\u001b[0m in \u001b[0;36m?\u001b[1;34m()\u001b[0m\n\u001b[0;32m     12\u001b[0m \u001b[1;31m# --- Stratified Split ---\u001b[0m\u001b[1;33m\u001b[0m\u001b[1;33m\u001b[0m\u001b[0m\n\u001b[1;32m---> 13\u001b[1;33m \u001b[0mdf\u001b[0m \u001b[1;33m=\u001b[0m \u001b[0mpd\u001b[0m\u001b[1;33m.\u001b[0m\u001b[0mread_csv\u001b[0m\u001b[1;33m(\u001b[0m\u001b[0mPATCH_CSV\u001b[0m\u001b[1;33m)\u001b[0m\u001b[1;33m\u001b[0m\u001b[1;33m\u001b[0m\u001b[0m\n\u001b[0m\u001b[0;32m     14\u001b[0m \u001b[0mtrain_df\u001b[0m\u001b[1;33m,\u001b[0m \u001b[0mval_df\u001b[0m \u001b[1;33m=\u001b[0m \u001b[0mtrain_test_split\u001b[0m\u001b[1;33m(\u001b[0m\u001b[0mdf\u001b[0m\u001b[1;33m,\u001b[0m \u001b[0mstratify\u001b[0m\u001b[1;33m=\u001b[0m\u001b[0mdf\u001b[0m\u001b[1;33m[\u001b[0m\u001b[1;34m'label'\u001b[0m\u001b[1;33m]\u001b[0m\u001b[1;33m,\u001b[0m \u001b[0mtest_size\u001b[0m\u001b[1;33m=\u001b[0m\u001b[1;36m0.2\u001b[0m\u001b[1;33m,\u001b[0m \u001b[0mrandom_state\u001b[0m\u001b[1;33m=\u001b[0m\u001b[1;36m42\u001b[0m\u001b[1;33m)\u001b[0m\u001b[1;33m\u001b[0m\u001b[1;33m\u001b[0m\u001b[0m\n\u001b[0;32m     15\u001b[0m \u001b[1;33m\u001b[0m\u001b[0m\n\u001b[0;32m     16\u001b[0m \u001b[0mtrain_dataset\u001b[0m \u001b[1;33m=\u001b[0m \u001b[0mLunaPatchDataset\u001b[0m\u001b[1;33m(\u001b[0m\u001b[0mtrain_df\u001b[0m\u001b[1;33m,\u001b[0m \u001b[0mtransform\u001b[0m\u001b[1;33m=\u001b[0m\u001b[0mAdvanced3DAugment\u001b[0m\u001b[1;33m(\u001b[0m\u001b[1;33m)\u001b[0m\u001b[1;33m)\u001b[0m\u001b[1;33m\u001b[0m\u001b[1;33m\u001b[0m\u001b[0m\n",
      "\u001b[1;32m~\\anaconda3\\envs\\cuda\\lib\\site-packages\\pandas\\core\\generic.py\u001b[0m in \u001b[0;36m?\u001b[1;34m(self)\u001b[0m\n\u001b[0;32m   1575\u001b[0m     \u001b[1;33m@\u001b[0m\u001b[0mfinal\u001b[0m\u001b[1;33m\u001b[0m\u001b[1;33m\u001b[0m\u001b[0m\n\u001b[0;32m   1576\u001b[0m     \u001b[1;32mdef\u001b[0m \u001b[0m__nonzero__\u001b[0m\u001b[1;33m(\u001b[0m\u001b[0mself\u001b[0m\u001b[1;33m)\u001b[0m \u001b[1;33m->\u001b[0m \u001b[0mNoReturn\u001b[0m\u001b[1;33m:\u001b[0m\u001b[1;33m\u001b[0m\u001b[1;33m\u001b[0m\u001b[0m\n\u001b[1;32m-> 1577\u001b[1;33m         raise ValueError(\n\u001b[0m\u001b[0;32m   1578\u001b[0m             \u001b[1;34mf\"The truth value of a {type(self).__name__} is ambiguous. \"\u001b[0m\u001b[1;33m\u001b[0m\u001b[1;33m\u001b[0m\u001b[0m\n\u001b[0;32m   1579\u001b[0m             \u001b[1;34m\"Use a.empty, a.bool(), a.item(), a.any() or a.all().\"\u001b[0m\u001b[1;33m\u001b[0m\u001b[1;33m\u001b[0m\u001b[0m\n\u001b[0;32m   1580\u001b[0m         )\n",
      "\u001b[1;31mValueError\u001b[0m: The truth value of a Series is ambiguous. Use a.empty, a.bool(), a.item(), a.any() or a.all()."
     ]
    }
   ],
   "source": [
    "# --- Stage 1: Preprocess All Scans ---\n",
    "process_all_scans(LUNA_PATH, PREPROCESSED_OUTPUT, fill_lung_structures=True)"
   ]
  },
  {
   "cell_type": "code",
   "execution_count": null,
   "id": "42f845ef-2655-43a7-bde7-4a9768c0f5e4",
   "metadata": {},
   "outputs": [],
   "source": [
    "# --- Stage 2.a: Extract 3D Positive Patches for Training ---\n",
    "extract_patches_pos(\n",
    "    annotation_csv=ANNOTATION_FILE,\n",
    "    metadata_csv=METADATA_FILE,\n",
    "    output_folder=PATCH_OUTPUT,\n",
    "    patch_size=32,\n",
    "    augmentation=True\n",
    ")"
   ]
  },
  {
   "cell_type": "code",
   "execution_count": null,
   "id": "a44fb4aa-4ac7-4ff5-9bb2-c918c9ab69eb",
   "metadata": {},
   "outputs": [],
   "source": [
    "# --- Stage 2.b: Extract 3D Positive Patches for Training ---\n",
    "extract_negative_patches_from_candidates(\n",
    "    candidates_csv=CANDIDATES_FILE,\n",
    "    annotations_csv=ANNOTATION_FILE,\n",
    "    metadata_csv=METADATA_FILE,\n",
    "    output_folder=PATCH_OUTPUT,\n",
    "    patch_size=32,\n",
    "    max_negatives_per_scan=5\n",
    ")"
   ]
  },
  {
   "cell_type": "code",
   "execution_count": 12,
   "id": "722b748a-a0f5-4ad1-9fab-dd0e0c5cd507",
   "metadata": {},
   "outputs": [
    {
     "name": "stdout",
     "output_type": "stream",
     "text": [
      "Original: 2372 positive, 3696 negative\n",
      "Balanced dataset saved: C:\\Users\\azizd\\python\\pytorch\\final_project\\output\\patch_data.csv\n",
      "Final counts → Positive: 2372, Negative: 2372\n"
     ]
    }
   ],
   "source": [
    "# --- Stage 3: Create Patches CSV File for Training ---\n",
    "create_balanced_training_csv(\n",
    "     patch_folder=PATCH_OUTPUT,\n",
    "     output_csv=PATCH_CSV,\n",
    "     oversample_pos=False,\n",
    "     downsample_neg=True\n",
    " )"
   ]
  },
  {
   "cell_type": "code",
   "execution_count": 6,
   "id": "3430013f-9289-477e-9a03-9b19866f554d",
   "metadata": {},
   "outputs": [],
   "source": [
    "# --- Stage 4: Training ---\n",
    "import torch\n",
    "import torch.nn as nn\n",
    "from sklearn.model_selection import train_test_split\n",
    "from torch.utils.data import DataLoader, random_split\n",
    "from sklearn.metrics import roc_auc_score, accuracy_score, precision_score, recall_score, f1_score\n",
    "from tqdm import tqdm\n",
    "import numpy as np\n",
    "import os\n",
    "import pandas as pd\n",
    "from sklearn.model_selection import train_test_split\n",
    "\n",
    "from prepare.classes import LunaPatchDataset, Advanced3DAugment\n",
    "from model.model import Luna3DCNN, run_training "
   ]
  },
  {
   "cell_type": "code",
   "execution_count": 7,
   "id": "775bab9b-6886-4b03-a8c9-2c06f9651689",
   "metadata": {},
   "outputs": [],
   "source": [
    "# --- Hyperparams ---\n",
    "BATCH_SIZE = 16\n",
    "NUM_EPOCHS = 20\n",
    "LR = 1e-4"
   ]
  },
  {
   "cell_type": "code",
   "execution_count": 13,
   "id": "3deaa427-11de-4b01-be8d-6a1d6a479a74",
   "metadata": {},
   "outputs": [],
   "source": [
    "# --- Stratified Split ---\n",
    "df = pd.read_csv(PATCH_CSV)\n",
    "\n",
    "train_df, val_df = train_test_split(df, stratify=df['label'], test_size=0.2, random_state=42)\n",
    "\n",
    "train_dataset = LunaPatchDataset(train_df.reset_index(drop=True), transform=None)\n",
    "val_dataset = LunaPatchDataset(val_df.reset_index(drop=True), transform=None)\n",
    "\n",
    "train_loader = DataLoader(train_dataset, batch_size=BATCH_SIZE, shuffle=True)\n",
    "val_loader = DataLoader(val_dataset, batch_size=BATCH_SIZE)\n",
    "\n",
    "# --- Model ---\n",
    "device = torch.device(\"cuda\" if torch.cuda.is_available() else \"cpu\")\n",
    "model = Luna3DCNN().to(device)\n",
    "\n",
    "# --- Loss & Optimizer ---\n",
    "criterion = nn.BCEWithLogitsLoss()\n",
    "optimizer = torch.optim.Adam(model.parameters(), lr=LR, weight_decay=1e-5)\n",
    "scheduler = torch.optim.lr_scheduler.OneCycleLR(\n",
    "    optimizer, max_lr=1e-3, epochs=NUM_EPOCHS, steps_per_epoch=len(train_loader)\n",
    ")"
   ]
  },
  {
   "cell_type": "code",
   "execution_count": 14,
   "id": "feed4b4d-771a-48c7-a370-256c205ff051",
   "metadata": {},
   "outputs": [],
   "source": [
    "# --- Train/Val Loop ---\n",
    "def run_epoch(model, loader, criterion, optimizer=None):\n",
    "    is_train = optimizer is not None\n",
    "    model.train() if is_train else model.eval()\n",
    "\n",
    "    losses, all_labels, all_preds = [], [], []\n",
    "\n",
    "    for x, y in tqdm(loader, desc=\"Train\" if is_train else \"Val\"):\n",
    "        x = x.to(device).float()\n",
    "        y = y.to(device).float().view(-1, 1)\n",
    "\n",
    "        if is_train:\n",
    "            optimizer.zero_grad()\n",
    "\n",
    "        logits = model(x)\n",
    "        # Clip here\n",
    "        # logits = torch.clamp(logits, -5, 5)\n",
    "        loss = criterion(logits, y)\n",
    "\n",
    "        if is_train:\n",
    "            loss.backward()\n",
    "            torch.nn.utils.clip_grad_norm_(model.parameters(), max_norm=2.0)\n",
    "            optimizer.step()\n",
    "            scheduler.step()  # <- Only called during training\n",
    "\n",
    "        probs = torch.sigmoid(logits).detach().cpu().numpy()\n",
    "        all_preds.extend(probs)\n",
    "        all_labels.extend(y.cpu().numpy())\n",
    "        losses.append(loss.item())\n",
    "\n",
    "    y_true = np.array(all_labels)\n",
    "    y_pred = np.array(all_preds)\n",
    "\n",
    "    best_f1, best_thresh = 0, 0.5\n",
    "    for t in np.arange(0.2, 0.81, 0.05):\n",
    "        y_bin = (y_pred > t).astype(int)\n",
    "        f1 = f1_score(y_true, y_bin)\n",
    "        if f1 > best_f1:\n",
    "            best_f1, best_thresh = f1, t\n",
    "\n",
    "    y_pred_bin = (y_pred > best_thresh).astype(int)\n",
    "    auc = roc_auc_score(y_true, y_pred)\n",
    "    acc = accuracy_score(y_true, y_pred_bin)\n",
    "    precision = precision_score(y_true, y_pred_bin, zero_division=0)\n",
    "    recall = recall_score(y_true, y_pred_bin, zero_division=0)\n",
    "    f1 = f1_score(y_true, y_pred_bin, zero_division=0)\n",
    "\n",
    "    \"\"\"\n",
    "    print(\"Predicted probabilities:\", y_pred[:10].flatten())\n",
    "    print(\"Binarized predictions:\", y_pred_bin[:10].flatten())\n",
    "    print(\"True labels:\", y_true[:10].flatten())\n",
    "    print(\"VAL label distribution:\", np.bincount(y_true.astype(int).flatten()))\n",
    "    \"\"\"\n",
    "    return np.mean(losses), acc, auc, precision, recall, f1, best_thresh"
   ]
  },
  {
   "cell_type": "code",
   "execution_count": 15,
   "id": "97eec9de-73a6-4b9b-9459-7b61c830c6b1",
   "metadata": {},
   "outputs": [
    {
     "name": "stdout",
     "output_type": "stream",
     "text": [
      "\n",
      "Epoch 1/20\n"
     ]
    },
    {
     "name": "stderr",
     "output_type": "stream",
     "text": [
      "Train: 100%|█████████████████████████████████████████████████████████████████████████| 238/238 [00:13<00:00, 17.43it/s]\n",
      "Val: 100%|█████████████████████████████████████████████████████████████████████████████| 60/60 [00:02<00:00, 26.16it/s]\n"
     ]
    },
    {
     "name": "stdout",
     "output_type": "stream",
     "text": [
      "[Train] Loss: 0.6946 | Acc: 0.5001 | AUC: 0.5031\n",
      "[Val]   Loss: 0.7077 | Acc: 0.4995 | AUC: 0.7443 | F1: 0.6662 | P: 0.4995 | R: 1.0000 | T: 0.20\n",
      "✅ Saved new best model with AUC 0.7443\n",
      "\n",
      "Epoch 2/20\n"
     ]
    },
    {
     "name": "stderr",
     "output_type": "stream",
     "text": [
      "Train: 100%|█████████████████████████████████████████████████████████████████████████| 238/238 [00:08<00:00, 26.66it/s]\n",
      "Val: 100%|█████████████████████████████████████████████████████████████████████████████| 60/60 [00:01<00:00, 51.34it/s]\n"
     ]
    },
    {
     "name": "stdout",
     "output_type": "stream",
     "text": [
      "[Train] Loss: 0.5993 | Acc: 0.6300 | AUC: 0.7330\n",
      "[Val]   Loss: 56.4623 | Acc: 0.5005 | AUC: 0.5000 | F1: 0.0000 | P: 0.0000 | R: 0.0000 | T: 0.50\n",
      "\n",
      "Epoch 3/20\n"
     ]
    },
    {
     "name": "stderr",
     "output_type": "stream",
     "text": [
      "Train: 100%|█████████████████████████████████████████████████████████████████████████| 238/238 [00:08<00:00, 26.63it/s]\n",
      "Val: 100%|█████████████████████████████████████████████████████████████████████████████| 60/60 [00:01<00:00, 54.33it/s]\n"
     ]
    },
    {
     "name": "stdout",
     "output_type": "stream",
     "text": [
      "[Train] Loss: 0.5308 | Acc: 0.7257 | AUC: 0.7936\n",
      "[Val]   Loss: 26.4377 | Acc: 0.4995 | AUC: 0.5000 | F1: 0.6662 | P: 0.4995 | R: 1.0000 | T: 0.20\n",
      "\n",
      "Epoch 4/20\n"
     ]
    },
    {
     "name": "stderr",
     "output_type": "stream",
     "text": [
      "Train: 100%|█████████████████████████████████████████████████████████████████████████| 238/238 [00:08<00:00, 26.56it/s]\n",
      "Val: 100%|█████████████████████████████████████████████████████████████████████████████| 60/60 [00:01<00:00, 56.86it/s]\n"
     ]
    },
    {
     "name": "stdout",
     "output_type": "stream",
     "text": [
      "[Train] Loss: 0.5096 | Acc: 0.7531 | AUC: 0.8039\n",
      "[Val]   Loss: 858.1126 | Acc: 0.4995 | AUC: 0.5000 | F1: 0.6662 | P: 0.4995 | R: 1.0000 | T: 0.20\n",
      "\n",
      "Epoch 5/20\n"
     ]
    },
    {
     "name": "stderr",
     "output_type": "stream",
     "text": [
      "Train: 100%|█████████████████████████████████████████████████████████████████████████| 238/238 [00:08<00:00, 26.57it/s]\n",
      "Val: 100%|█████████████████████████████████████████████████████████████████████████████| 60/60 [00:01<00:00, 57.61it/s]\n"
     ]
    },
    {
     "name": "stdout",
     "output_type": "stream",
     "text": [
      "[Train] Loss: 0.4425 | Acc: 0.7929 | AUC: 0.8627\n",
      "[Val]   Loss: 99.6546 | Acc: 0.5005 | AUC: 0.5000 | F1: 0.0000 | P: 0.0000 | R: 0.0000 | T: 0.50\n",
      "\n",
      "Epoch 6/20\n"
     ]
    },
    {
     "name": "stderr",
     "output_type": "stream",
     "text": [
      "Train: 100%|█████████████████████████████████████████████████████████████████████████| 238/238 [00:08<00:00, 26.46it/s]\n",
      "Val: 100%|█████████████████████████████████████████████████████████████████████████████| 60/60 [00:01<00:00, 56.88it/s]\n"
     ]
    },
    {
     "name": "stdout",
     "output_type": "stream",
     "text": [
      "[Train] Loss: 0.4149 | Acc: 0.8129 | AUC: 0.8810\n",
      "[Val]   Loss: 274.6281 | Acc: 0.4995 | AUC: 0.5000 | F1: 0.6662 | P: 0.4995 | R: 1.0000 | T: 0.20\n",
      "\n",
      "Epoch 7/20\n"
     ]
    },
    {
     "name": "stderr",
     "output_type": "stream",
     "text": [
      "Train: 100%|█████████████████████████████████████████████████████████████████████████| 238/238 [00:08<00:00, 26.65it/s]\n",
      "Val: 100%|█████████████████████████████████████████████████████████████████████████████| 60/60 [00:01<00:00, 57.78it/s]\n"
     ]
    },
    {
     "name": "stdout",
     "output_type": "stream",
     "text": [
      "[Train] Loss: 0.4223 | Acc: 0.8013 | AUC: 0.8819\n",
      "[Val]   Loss: 134.4920 | Acc: 0.5005 | AUC: 0.5000 | F1: 0.0000 | P: 0.0000 | R: 0.0000 | T: 0.50\n",
      "\n",
      "Epoch 8/20\n"
     ]
    },
    {
     "name": "stderr",
     "output_type": "stream",
     "text": [
      "Train: 100%|█████████████████████████████████████████████████████████████████████████| 238/238 [00:09<00:00, 26.28it/s]\n",
      "Val: 100%|█████████████████████████████████████████████████████████████████████████████| 60/60 [00:01<00:00, 55.91it/s]\n"
     ]
    },
    {
     "name": "stdout",
     "output_type": "stream",
     "text": [
      "[Train] Loss: 0.3724 | Acc: 0.8430 | AUC: 0.9082\n",
      "[Val]   Loss: 1.2754 | Acc: 0.5026 | AUC: 0.5928 | F1: 0.6676 | P: 0.5011 | R: 1.0000 | T: 0.80\n",
      "\n",
      "Epoch 9/20\n"
     ]
    },
    {
     "name": "stderr",
     "output_type": "stream",
     "text": [
      "Train: 100%|█████████████████████████████████████████████████████████████████████████| 238/238 [00:09<00:00, 26.17it/s]\n",
      "Val: 100%|█████████████████████████████████████████████████████████████████████████████| 60/60 [00:01<00:00, 57.32it/s]\n"
     ]
    },
    {
     "name": "stdout",
     "output_type": "stream",
     "text": [
      "[Train] Loss: 0.3606 | Acc: 0.8432 | AUC: 0.9142\n",
      "[Val]   Loss: 96.6387 | Acc: 0.4995 | AUC: 0.5000 | F1: 0.6662 | P: 0.4995 | R: 1.0000 | T: 0.20\n",
      "\n",
      "Epoch 10/20\n"
     ]
    },
    {
     "name": "stderr",
     "output_type": "stream",
     "text": [
      "Train: 100%|█████████████████████████████████████████████████████████████████████████| 238/238 [00:09<00:00, 26.05it/s]\n",
      "Val: 100%|█████████████████████████████████████████████████████████████████████████████| 60/60 [00:01<00:00, 57.28it/s]\n"
     ]
    },
    {
     "name": "stdout",
     "output_type": "stream",
     "text": [
      "[Train] Loss: 0.3483 | Acc: 0.8582 | AUC: 0.9231\n",
      "[Val]   Loss: 24.7655 | Acc: 0.4995 | AUC: 0.5000 | F1: 0.6662 | P: 0.4995 | R: 1.0000 | T: 0.20\n",
      "\n",
      "Epoch 11/20\n"
     ]
    },
    {
     "name": "stderr",
     "output_type": "stream",
     "text": [
      "Train: 100%|█████████████████████████████████████████████████████████████████████████| 238/238 [00:09<00:00, 26.06it/s]\n",
      "Val: 100%|█████████████████████████████████████████████████████████████████████████████| 60/60 [00:01<00:00, 57.52it/s]\n"
     ]
    },
    {
     "name": "stdout",
     "output_type": "stream",
     "text": [
      "[Train] Loss: 0.3202 | Acc: 0.8653 | AUC: 0.9293\n",
      "[Val]   Loss: 118.8609 | Acc: 0.4995 | AUC: 0.5000 | F1: 0.6662 | P: 0.4995 | R: 1.0000 | T: 0.20\n",
      "\n",
      "Epoch 12/20\n"
     ]
    },
    {
     "name": "stderr",
     "output_type": "stream",
     "text": [
      "Train: 100%|█████████████████████████████████████████████████████████████████████████| 238/238 [00:09<00:00, 25.84it/s]\n",
      "Val: 100%|█████████████████████████████████████████████████████████████████████████████| 60/60 [00:01<00:00, 56.78it/s]\n"
     ]
    },
    {
     "name": "stdout",
     "output_type": "stream",
     "text": [
      "[Train] Loss: 0.3186 | Acc: 0.8682 | AUC: 0.9321\n",
      "[Val]   Loss: 28.8939 | Acc: 0.5005 | AUC: 0.7515 | F1: 0.0000 | P: 0.0000 | R: 0.0000 | T: 0.50\n",
      "✅ Saved new best model with AUC 0.7515\n",
      "\n",
      "Epoch 13/20\n"
     ]
    },
    {
     "name": "stderr",
     "output_type": "stream",
     "text": [
      "Train: 100%|█████████████████████████████████████████████████████████████████████████| 238/238 [00:09<00:00, 25.91it/s]\n",
      "Val: 100%|█████████████████████████████████████████████████████████████████████████████| 60/60 [00:01<00:00, 57.25it/s]\n"
     ]
    },
    {
     "name": "stdout",
     "output_type": "stream",
     "text": [
      "[Train] Loss: 0.3160 | Acc: 0.8735 | AUC: 0.9333\n",
      "[Val]   Loss: 3.9233 | Acc: 0.5005 | AUC: 0.8075 | F1: 0.0000 | P: 0.0000 | R: 0.0000 | T: 0.50\n",
      "✅ Saved new best model with AUC 0.8075\n",
      "\n",
      "Epoch 14/20\n"
     ]
    },
    {
     "name": "stderr",
     "output_type": "stream",
     "text": [
      "Train: 100%|█████████████████████████████████████████████████████████████████████████| 238/238 [00:09<00:00, 25.92it/s]\n",
      "Val: 100%|█████████████████████████████████████████████████████████████████████████████| 60/60 [00:01<00:00, 56.65it/s]\n"
     ]
    },
    {
     "name": "stdout",
     "output_type": "stream",
     "text": [
      "[Train] Loss: 0.2927 | Acc: 0.8862 | AUC: 0.9435\n",
      "[Val]   Loss: 41.7573 | Acc: 0.5005 | AUC: 0.7334 | F1: 0.0000 | P: 0.0000 | R: 0.0000 | T: 0.50\n",
      "\n",
      "Epoch 15/20\n"
     ]
    },
    {
     "name": "stderr",
     "output_type": "stream",
     "text": [
      "Train: 100%|█████████████████████████████████████████████████████████████████████████| 238/238 [00:09<00:00, 25.76it/s]\n",
      "Val: 100%|█████████████████████████████████████████████████████████████████████████████| 60/60 [00:01<00:00, 57.13it/s]\n"
     ]
    },
    {
     "name": "stdout",
     "output_type": "stream",
     "text": [
      "[Train] Loss: 0.2783 | Acc: 0.8914 | AUC: 0.9469\n",
      "[Val]   Loss: 24.3827 | Acc: 0.5005 | AUC: 0.7950 | F1: 0.0000 | P: 0.0000 | R: 0.0000 | T: 0.50\n",
      "\n",
      "Epoch 16/20\n"
     ]
    },
    {
     "name": "stderr",
     "output_type": "stream",
     "text": [
      "Train: 100%|█████████████████████████████████████████████████████████████████████████| 238/238 [00:09<00:00, 25.79it/s]\n",
      "Val: 100%|█████████████████████████████████████████████████████████████████████████████| 60/60 [00:01<00:00, 57.45it/s]\n"
     ]
    },
    {
     "name": "stdout",
     "output_type": "stream",
     "text": [
      "[Train] Loss: 0.2620 | Acc: 0.8964 | AUC: 0.9522\n",
      "[Val]   Loss: 10.9188 | Acc: 0.5005 | AUC: 0.5239 | F1: 0.0000 | P: 0.0000 | R: 0.0000 | T: 0.50\n",
      "\n",
      "Epoch 17/20\n"
     ]
    },
    {
     "name": "stderr",
     "output_type": "stream",
     "text": [
      "Train: 100%|█████████████████████████████████████████████████████████████████████████| 238/238 [00:09<00:00, 25.70it/s]\n",
      "Val: 100%|█████████████████████████████████████████████████████████████████████████████| 60/60 [00:01<00:00, 57.18it/s]\n"
     ]
    },
    {
     "name": "stdout",
     "output_type": "stream",
     "text": [
      "[Train] Loss: 0.2480 | Acc: 0.9004 | AUC: 0.9561\n",
      "[Val]   Loss: 5.0144 | Acc: 0.5005 | AUC: 0.7785 | F1: 0.0000 | P: 0.0000 | R: 0.0000 | T: 0.50\n",
      "\n",
      "Epoch 18/20\n"
     ]
    },
    {
     "name": "stderr",
     "output_type": "stream",
     "text": [
      "Train: 100%|█████████████████████████████████████████████████████████████████████████| 238/238 [00:09<00:00, 25.74it/s]\n",
      "Val: 100%|█████████████████████████████████████████████████████████████████████████████| 60/60 [00:01<00:00, 57.38it/s]\n"
     ]
    },
    {
     "name": "stdout",
     "output_type": "stream",
     "text": [
      "[Train] Loss: 0.2396 | Acc: 0.9057 | AUC: 0.9585\n",
      "[Val]   Loss: 1.7500 | Acc: 0.5205 | AUC: 0.9356 | F1: 0.0771 | P: 1.0000 | R: 0.0401 | T: 0.20\n",
      "✅ Saved new best model with AUC 0.9356\n",
      "\n",
      "Epoch 19/20\n"
     ]
    },
    {
     "name": "stderr",
     "output_type": "stream",
     "text": [
      "Train: 100%|█████████████████████████████████████████████████████████████████████████| 238/238 [00:09<00:00, 25.62it/s]\n",
      "Val: 100%|█████████████████████████████████████████████████████████████████████████████| 60/60 [00:01<00:00, 56.45it/s]\n"
     ]
    },
    {
     "name": "stdout",
     "output_type": "stream",
     "text": [
      "[Train] Loss: 0.2344 | Acc: 0.9117 | AUC: 0.9615\n",
      "[Val]   Loss: 0.9793 | Acc: 0.7882 | AUC: 0.9573 | F1: 0.8194 | P: 0.7136 | R: 0.9620 | T: 0.80\n",
      "✅ Saved new best model with AUC 0.9573\n",
      "\n",
      "Epoch 20/20\n"
     ]
    },
    {
     "name": "stderr",
     "output_type": "stream",
     "text": [
      "Train: 100%|█████████████████████████████████████████████████████████████████████████| 238/238 [00:09<00:00, 25.56it/s]\n",
      "Val: 100%|█████████████████████████████████████████████████████████████████████████████| 60/60 [00:01<00:00, 56.27it/s]"
     ]
    },
    {
     "name": "stdout",
     "output_type": "stream",
     "text": [
      "[Train] Loss: 0.2130 | Acc: 0.9204 | AUC: 0.9677\n",
      "[Val]   Loss: 0.2167 | Acc: 0.9241 | AUC: 0.9642 | F1: 0.9198 | P: 0.9741 | R: 0.8713 | T: 0.60\n",
      "✅ Saved new best model with AUC 0.9642\n"
     ]
    },
    {
     "name": "stderr",
     "output_type": "stream",
     "text": [
      "\n"
     ]
    }
   ],
   "source": [
    "# --- Training ---\n",
    "best_auc = 0\n",
    "for epoch in range(NUM_EPOCHS):\n",
    "    print(f\"\\nEpoch {epoch+1}/{NUM_EPOCHS}\")\n",
    "\n",
    "    train_loss, train_acc, train_auc, _, _, _, _ = run_epoch(model, train_loader, criterion, optimizer)\n",
    "    val_loss, val_acc, val_auc, val_prec, val_rec, val_f1, best_thresh = run_epoch(model, val_loader, criterion)\n",
    "\n",
    "    print(f\"[Train] Loss: {train_loss:.4f} | Acc: {train_acc:.4f} | AUC: {train_auc:.4f}\")\n",
    "    print(f\"[Val]   Loss: {val_loss:.4f} | Acc: {val_acc:.4f} | AUC: {val_auc:.4f} | F1: {val_f1:.4f} | P: {val_prec:.4f} | R: {val_rec:.4f} | T: {best_thresh:.2f}\")\n",
    "\n",
    "    if val_auc > best_auc:\n",
    "        best_auc = val_auc\n",
    "        torch.save(model.state_dict(), CHECKPOINT_PATH)\n",
    "        print(f\"✅ Saved new best model with AUC {best_auc:.4f}\")"
   ]
  },
  {
   "cell_type": "code",
   "execution_count": null,
   "id": "8cc0d324-c83b-4b2e-b209-8b216d0882db",
   "metadata": {},
   "outputs": [],
   "source": []
  }
 ],
 "metadata": {
  "kernelspec": {
   "display_name": "Python (cuda)",
   "language": "python",
   "name": "cuda"
  },
  "language_info": {
   "codemirror_mode": {
    "name": "ipython",
    "version": 3
   },
   "file_extension": ".py",
   "mimetype": "text/x-python",
   "name": "python",
   "nbconvert_exporter": "python",
   "pygments_lexer": "ipython3",
   "version": "3.9.21"
  }
 },
 "nbformat": 4,
 "nbformat_minor": 5
}
